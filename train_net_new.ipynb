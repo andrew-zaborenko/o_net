{
 "cells": [
  {
   "cell_type": "code",
   "execution_count": 1,
   "id": "b5d4d0e2-6d09-4377-9008-ea1efe368662",
   "metadata": {},
   "outputs": [],
   "source": [
    "import os\n",
    "import shutil\n",
    "import cv2\n",
    "import json\n",
    "import numpy as np\n",
    "from tqdm.notebook import tqdm\n",
    "import torchvision.transforms.functional as TF\n",
    "import random\n",
    "from torchvision.transforms import ColorJitter\n",
    "from PIL import ImageFilter\n",
    "import os\n",
    "import json\n",
    "import cv2\n",
    "import numpy as np\n",
    "import torch\n",
    "import torchvision.transforms as transforms\n",
    "import matplotlib.pyplot as plt\n",
    "import math\n",
    "import torch.nn as nn\n",
    "import torch.nn.functional as F\n",
    "import torch.optim as optim\n",
    "from torch.utils.data import DataLoader\n",
    "from collections import OrderedDict\n",
    "from PIL import Image"
   ]
  },
  {
   "cell_type": "code",
   "execution_count": 7,
   "id": "e212e504-61da-41ec-9deb-68eddc1869ac",
   "metadata": {},
   "outputs": [],
   "source": [
    "def rotate(origin, point, angle):\n",
    "    \"\"\"\n",
    "    Rotate a point counterclockwise by a given angle around a given origin.\n",
    "    The angle should be given in radians.\n",
    "    \n",
    "    modified from answer here: https://stackoverflow.com/questions/34372480/rotate-point-about-another-point-in-degrees-python\n",
    "    \"\"\"\n",
    "    ox, oy = origin\n",
    "    px, py = point\n",
    "\n",
    "    qx = ox + math.cos(angle) * (px - ox) - math.sin(angle) * (py - oy)\n",
    "    qy = oy + math.sin(angle) * (px - ox) + math.cos(angle) * (py - oy)\n",
    "    return int(qx), int(qy)\n",
    "    \n",
    "from torch.utils.data import Dataset\n",
    "\n",
    "class LandmarksDataset_from_json(Dataset):\n",
    "    def __init__(self, root_dir, json_file, transform=None):\n",
    "        self.root_dir = root_dir\n",
    "        self.transform = transform\n",
    "        with open(json_file, 'r') as f:\n",
    "            self.data = json.load(f)\n",
    "\n",
    "    def __len__(self):\n",
    "        return len(self.data)\n",
    "\n",
    "    def __getitem__(self, idx):\n",
    "        img_name = list(self.data.keys())[idx]\n",
    "        img_path = os.path.join(self.root_dir, img_name)\n",
    "        image = cv2.imread(img_path)\n",
    "        info = self.data[img_name]\n",
    "        bbox = info['bbox']\n",
    "        landmarks = np.array(info['landmarks'])\n",
    "\n",
    "        if self.transform:\n",
    "            image, bbox, landmarks = self.transform(image, bbox, landmarks)\n",
    "\n",
    "        return image, bbox, landmarks\n",
    "\n",
    "class LandmarksAugmentation:\n",
    "    def __init__(self, rotation_limit, bbox_jitter_scale):\n",
    "        self.rotation_limit = rotation_limit\n",
    "        self.bbox_jitter_scale = bbox_jitter_scale\n",
    "\n",
    "    def random_rotation(self, image, bbox, landmarks):\n",
    "        angle = transforms.RandomRotation.get_params(degrees=(-self.rotation_limit, self.rotation_limit))\n",
    "        image = transforms.ToPILImage()(image)\n",
    "        center = (image.size[1] / 2, image.size[0] / 2)\n",
    "        image = transforms.functional.rotate(image, -angle, center=center) # absolutely stupid bug, everything starts working with -angle here\n",
    "        landmarks = self.rotate_landmarks(landmarks, angle, image.size)\n",
    "        bbox = self.rotate_bbox(bbox, angle, image.size)\n",
    "        return image, bbox, landmarks\n",
    "\n",
    "    def rotate_bbox(self, bbox, angle, image_size):\n",
    "        \"\"\"\n",
    "        Rotate a bounding box counterclockwise by a given angle around a given center point.\n",
    "        The angle should be given in radians.\n",
    "        \"\"\"\n",
    "        # Convert the bounding box to four points: topleft, btmleft, btmright, topright\n",
    "        pt1 = [bbox[0], bbox[1]]  # topleft\n",
    "        pt2 = [bbox[0], bbox[3]]  # btmleft\n",
    "        pt3 = [bbox[2], bbox[3]]  # btmright\n",
    "        pt4 = [bbox[2], bbox[1]]  # topright\n",
    "\n",
    "        center = (image_size[1] / 2, image_size[0] / 2)\n",
    "        \n",
    "        # Rotate each point\n",
    "        rotated_pt1 = rotate(center, pt1, math.radians(angle))\n",
    "        rotated_pt2 = rotate(center, pt2, math.radians(angle))\n",
    "        rotated_pt3 = rotate(center, pt3, math.radians(angle))\n",
    "        rotated_pt4 = rotate(center, pt4, math.radians(angle))\n",
    "        \n",
    "        # Calculate the bounding box of the rotated points\n",
    "        x_min = min(rotated_pt1[0], rotated_pt2[0], rotated_pt3[0], rotated_pt4[0])\n",
    "        y_min = min(rotated_pt1[1], rotated_pt2[1], rotated_pt3[1], rotated_pt4[1])\n",
    "        x_max = max(rotated_pt1[0], rotated_pt2[0], rotated_pt3[0], rotated_pt4[0])\n",
    "        y_max = max(rotated_pt1[1], rotated_pt2[1], rotated_pt3[1], rotated_pt4[1])\n",
    "        \n",
    "        return [x_min, y_min, x_max, y_max]\n",
    "    \n",
    "    def rotate_landmarks(self, landmarks, angle, image_size):\n",
    "        # Calculate center of the image\n",
    "        center = (image_size[1] / 2, image_size[0] / 2)\n",
    "    \n",
    "        # Initialize list to store rotated landmarks\n",
    "        rotated_landmarks = []\n",
    "    \n",
    "        # Rotate each landmark point\n",
    "        for point in landmarks:\n",
    "            rotated_point = rotate(center, point, math.radians(angle))\n",
    "            rotated_landmarks.append(rotated_point)\n",
    "    \n",
    "        return rotated_landmarks\n",
    "\n",
    "    \n",
    "    def bbox_jitter(self, bbox):\n",
    "        bbox = torch.tensor(bbox)\n",
    "        bbox_center = (bbox[0] + bbox[2]) / 2, (bbox[1] + bbox[3]) / 2\n",
    "        bbox_width = bbox[2] - bbox[0]\n",
    "        bbox_height = bbox[3] - bbox[1]\n",
    "        jittered_width = bbox_width * np.random.uniform(1 - self.bbox_jitter_scale, 1 + self.bbox_jitter_scale)\n",
    "        jittered_height = bbox_height * np.random.uniform(1 - self.bbox_jitter_scale, 1 + self.bbox_jitter_scale)\n",
    "        jittered_bbox = [bbox_center[0] - jittered_width / 2, bbox_center[1] - jittered_height / 2, \n",
    "                         bbox_center[0] + jittered_width / 2, bbox_center[1] + jittered_height / 2]\n",
    "        return jittered_bbox\n",
    "\n",
    "    def __call__(self, image, bbox, landmarks):\n",
    "        \n",
    "        # Apply random rotation\n",
    "        image, bbox, landmarks = self.random_rotation(image, bbox, landmarks)\n",
    "        \n",
    "        # Apply bbox jitter\n",
    "        jittered_bbox = self.bbox_jitter(bbox)\n",
    "        \n",
    "        return image, jittered_bbox, landmarks \n",
    "\n",
    "\n",
    "\n",
    "def visualize(image, bbox, landmarks, img_path, selected_indices=None):\n",
    "    bbox = np.array(bbox)  # Convert bounding box to NumPy array\n",
    "    landmarks = np.array(landmarks)  # Convert landmarks to NumPy array\n",
    "    \n",
    "    plt.figure(figsize=(8, 8))\n",
    "    plt.imshow(cv2.cvtColor(image, cv2.COLOR_BGR2RGB))\n",
    "    plt.gca().add_patch(plt.Rectangle((bbox[0], bbox[1]), bbox[2] - bbox[0], bbox[3] - bbox[1], linewidth=2, edgecolor='g', facecolor='none'))\n",
    "    \n",
    "    if selected_indices is not None:\n",
    "        selected_landmarks = landmarks[selected_indices]\n",
    "        for landmark in selected_landmarks:\n",
    "            plt.scatter(landmark[0], landmark[1], c='r', s=20)\n",
    "    \n",
    "    plt.axis('off')\n",
    "    plt.title(f\"Image Path: {img_path}\")\n",
    "    plt.show()\n",
    "\n",
    "\n",
    "class FaceHorizontalFlip68:\n",
    "    def __init__(self, p=0.5):\n",
    "        self.p = p\n",
    "        self.flip = transforms.RandomHorizontalFlip(p=1)\n",
    "\n",
    "    def __call__(self, image, bbox, landmarks):\n",
    "        if torch.rand(1) < self.p:\n",
    "            image_pil = transforms.ToPILImage()(image)\n",
    "            image_pil = self.flip(image_pil)\n",
    "            image = transforms.ToTensor()(image_pil)\n",
    "            width = image.shape[2]\n",
    "            flipped_bbox = self.flip_bbox(bbox, width)\n",
    "            flipped_landmarks = torch.tensor(landmarks).clone()\n",
    "            flipped_landmarks[:, 0] = width - 1 - flipped_landmarks[:, 0]\n",
    "            flipped_landmarks = self.reorder_landmarks(flipped_landmarks)\n",
    "            return image, flipped_bbox, flipped_landmarks\n",
    "        return image, bbox, landmarks\n",
    "\n",
    "    def flip_bbox(self, bbox, width):\n",
    "        bbox_tensor = torch.tensor(bbox)\n",
    "        flipped_bbox = bbox_tensor.clone()\n",
    "        flipped_bbox[0], flipped_bbox[2] = width - 1 - bbox_tensor[2], width - 1 - bbox_tensor[0]  # Flip left and right coordinates\n",
    "        return flipped_bbox.tolist()  # Convert back to list before returning\n",
    "\n",
    "    def reorder_landmarks(self, landmarks):\n",
    "        mapping = {\n",
    "            # face countor\n",
    "            1: 17,\n",
    "            2: 16,\n",
    "            3: 15,\n",
    "            4: 14,\n",
    "            5: 13,\n",
    "            6: 12,\n",
    "            7: 11,\n",
    "            8: 10,\n",
    "            9: 9,\n",
    "\n",
    "            10: 8,\n",
    "            11: 7,\n",
    "            12: 6,\n",
    "            13: 5,\n",
    "            14: 4,\n",
    "            15: 3,\n",
    "            16: 2,\n",
    "            17: 1,\n",
    "\n",
    "            # brows\n",
    "            18: 27,\n",
    "            19: 26,\n",
    "            20: 25,\n",
    "            21: 24,\n",
    "            22: 23,\n",
    "\n",
    "            23: 22,\n",
    "            24: 21,\n",
    "            25: 20,\n",
    "            26: 19,\n",
    "            27: 18,\n",
    "\n",
    "            # nose\n",
    "            28: 28,\n",
    "            29: 29,\n",
    "            30: 30,\n",
    "            31: 31,\n",
    "\n",
    "            # nostrils\n",
    "            32: 36,\n",
    "            33: 35,\n",
    "            34: 34,\n",
    "\n",
    "            35: 33,\n",
    "            36: 32,\n",
    "\n",
    "            # eyes\n",
    "            37: 46,\n",
    "            38: 45,\n",
    "            39: 44,\n",
    "            40: 43,\n",
    "            41: 48,\n",
    "            42: 47,\n",
    "\n",
    "            43: 40,\n",
    "            44: 39,\n",
    "            45: 38,\n",
    "            46: 37,\n",
    "            47: 42,\n",
    "            48: 41,\n",
    "\n",
    "            # lips\n",
    "            49: 55,\n",
    "            50: 54,\n",
    "            51: 53,\n",
    "            52: 52,\n",
    "            53: 51,\n",
    "            54: 50,\n",
    "            55: 49,\n",
    "            56: 60,\n",
    "            57: 59,\n",
    "            58: 58,\n",
    "            59: 57,\n",
    "            60: 56,\n",
    "            61: 65,\n",
    "            62: 64,\n",
    "            63: 63,\n",
    "            64: 62,\n",
    "            65: 61,\n",
    "            66: 68,\n",
    "            67: 67,\n",
    "            68: 66\n",
    "        }\n",
    "        \n",
    "        flipped_landmarks = landmarks.clone()\n",
    "        for key, value in mapping.items():\n",
    "            flipped_landmarks[key - 1] = landmarks[value - 1]\n",
    "        return flipped_landmarks\n",
    "\n",
    "\n",
    "\n",
    "class AddNoise:\n",
    "    def __init__(self, min_noise_scale, max_noise_scale, noise_prob):\n",
    "        self.min_noise_scale = min_noise_scale\n",
    "        self.max_noise_scale = max_noise_scale\n",
    "        self.noise_prob = noise_prob\n",
    "\n",
    "    def __call__(self, image, bbox, landmarks):\n",
    "        # Randomly decide whether to add noise\n",
    "        if random.random() < self.noise_prob:\n",
    "            # Sample noise scale from the specified range\n",
    "            noise_scale = random.uniform(self.min_noise_scale, self.max_noise_scale)\n",
    "\n",
    "            # Convert image to tensor\n",
    "            image_tensor = TF.to_tensor(image)\n",
    "            \n",
    "            # Add noise to the tensor\n",
    "            noisy_image_tensor = image_tensor + torch.randn_like(image_tensor) * noise_scale\n",
    "            \n",
    "            # Convert back to PIL Image\n",
    "            noisy_image = TF.to_pil_image(noisy_image_tensor)\n",
    "        else:\n",
    "            noisy_image = image\n",
    "        \n",
    "        return noisy_image, bbox, landmarks\n",
    "\n",
    "class GaussianBlur:\n",
    "    def __init__(self, probability, min_sigma, max_sigma):\n",
    "        self.probability = probability\n",
    "        self.min_sigma = min_sigma\n",
    "        self.max_sigma = max_sigma\n",
    "\n",
    "    def __call__(self, image, bbox, landmarks):\n",
    "        if random.random() < self.probability:\n",
    "            sigma = random.uniform(self.min_sigma, self.max_sigma)\n",
    "            blurred_image = image.filter(ImageFilter.GaussianBlur(sigma))\n",
    "            return blurred_image, bbox, landmarks\n",
    "        else:\n",
    "            return image, bbox, landmarks\n",
    "\n",
    "\n",
    "class CustomColorJitter:\n",
    "    def __init__(self, brightness=0, contrast=0, saturation=0, hue=0):\n",
    "        self.color_jitter = ColorJitter(brightness=brightness, contrast=contrast, saturation=saturation, hue=hue)\n",
    "\n",
    "    def __call__(self, image, bbox, landmarks):\n",
    "        return self.color_jitter(image), bbox, landmarks\n",
    "\n",
    "class CropAndResize:\n",
    "    def __init__(self, output_size):\n",
    "        self.output_size = output_size\n",
    "\n",
    "    def __call__(self, image, bbox, landmarks):\n",
    "        if isinstance(image, np.ndarray):\n",
    "            image = Image.fromarray(image)\n",
    "        # Extract bbox coordinates\n",
    "        x_min, y_min, x_max, y_max = bbox\n",
    "        \n",
    "        # Ensure integer values for coordinates\n",
    "        x_min, y_min, x_max, y_max = int(x_min), int(y_min), int(x_max), int(y_max)\n",
    "        \n",
    "        # Crop the image using bbox coordinates\n",
    "        cropped_image = TF.crop(image, y_min, x_min, y_max - y_min, x_max - x_min)\n",
    "        \n",
    "        # Resize the cropped image to the specified output size\n",
    "        resized_image = TF.resize(cropped_image, [self.output_size, self.output_size])\n",
    "        \n",
    "        # Normalize landmarks to the bbox\n",
    "        landmarks_normalized = []\n",
    "        bbox_width = x_max - x_min\n",
    "        bbox_height = y_max - y_min\n",
    "        \n",
    "        for x, y in landmarks:\n",
    "            if x_min <= x <= x_max and y_min <= y <= y_max:\n",
    "                x_new = (x - x_min) / bbox_width\n",
    "                y_new = (y - y_min) / bbox_height\n",
    "                landmarks_normalized.append([x_new, y_new])\n",
    "            else:\n",
    "                landmarks_normalized.append([-1, -1])\n",
    "        \n",
    "        return resized_image, bbox, landmarks_normalized\n",
    "\n",
    "class NormalizeAndToTensor:\n",
    "    def __init__(self):\n",
    "        self.transform = transforms.Compose([\n",
    "            transforms.ToTensor(),\n",
    "            transforms.Normalize(mean=[0.5, 0.5, 0.5], std=[0.5, 0.5, 0.5])\n",
    "        ])\n",
    "\n",
    "    def __call__(self, image, bbox, landmarks):\n",
    "        \n",
    "        # Apply the composed transform to the image\n",
    "        tensor_image = self.transform(image)\n",
    "        landmarks = torch.flatten(torch.tensor(landmarks, dtype=torch.float32))\n",
    "        return tensor_image, bbox, landmarks\n",
    "\n",
    "class CustomTransform:\n",
    "    def __init__(self, transforms):\n",
    "        self.transforms = transforms\n",
    "\n",
    "    def __call__(self, image, bbox, landmarks):\n",
    "        for t in self.transforms:\n",
    "            image, bbox, landmarks = t(image, bbox, landmarks)\n",
    "        return image, bbox, landmarks\n",
    "\n",
    "class Flatten(nn.Module):\n",
    "\n",
    "    def __init__(self):\n",
    "        super(Flatten, self).__init__()\n",
    "\n",
    "    def forward(self, x):\n",
    "        \"\"\"\n",
    "        Arguments:\n",
    "            x: a float tensor with shape [batch_size, c, h, w].\n",
    "        Returns:\n",
    "            a float tensor with shape [batch_size, c*h*w].\n",
    "        \"\"\"\n",
    "\n",
    "        x = x.transpose(3, 2).contiguous()\n",
    "\n",
    "        return x.view(x.size(0), -1)\n",
    "\n",
    "class ONet(nn.Module):\n",
    "    def __init__(self):\n",
    "        super(ONet, self).__init__()\n",
    "\n",
    "        self.features = nn.Sequential(OrderedDict([\n",
    "            ('conv1', nn.Conv2d(3, 32, 3, 1)),\n",
    "            ('prelu1', nn.PReLU(32)),\n",
    "            ('pool1', nn.MaxPool2d(3, 2, ceil_mode=True)),\n",
    "\n",
    "            ('conv2', nn.Conv2d(32, 64, 3, 1)),\n",
    "            ('prelu2', nn.PReLU(64)),\n",
    "            ('pool2', nn.MaxPool2d(3, 2, ceil_mode=True)),\n",
    "\n",
    "            ('conv3', nn.Conv2d(64, 64, 3, 1)),\n",
    "            ('prelu3', nn.PReLU(64)),\n",
    "            ('pool3', nn.MaxPool2d(2, 2, ceil_mode=True)),\n",
    "\n",
    "            ('conv4', nn.Conv2d(64, 128, 2, 1)),\n",
    "            ('prelu4', nn.PReLU(128)),\n",
    "\n",
    "            ('flatten', Flatten()),\n",
    "            ('conv5', nn.Linear(1152, 256)),\n",
    "            ('drop5', nn.Dropout(0.25)),\n",
    "            ('prelu5', nn.PReLU(256)),\n",
    "        ]))\n",
    "\n",
    "        # Output layer with 136 features\n",
    "        self.output_layer = nn.Linear(256, 136)\n",
    "\n",
    "    def forward(self, x):\n",
    "        \"\"\"\n",
    "        Arguments:\n",
    "            x: a float tensor with shape [batch_size, 3, h, w].\n",
    "        Returns:\n",
    "            landmarks: a float tensor with shape [batch_size, 136].\n",
    "        \"\"\"\n",
    "        x = self.features(x)\n",
    "        landmarks = self.output_layer(x)\n",
    "        return landmarks\n",
    "\n",
    "class CustomMSELoss(nn.Module):\n",
    "    def __init__(self):\n",
    "        super(CustomMSELoss, self).__init__()\n",
    "\n",
    "    def forward(self, predicted_landmarks, target_landmarks):\n",
    "        # Mask for elements with value -1\n",
    "        mask = (target_landmarks != -1).float()\n",
    "\n",
    "        # Compute squared error only for non-masked elements\n",
    "        loss = torch.sum((predicted_landmarks - target_landmarks)**2 * mask) / torch.sum(mask)\n",
    "\n",
    "        return loss\n",
    "\n",
    "class CustomMAELoss(nn.Module):\n",
    "    def __init__(self):\n",
    "        super(CustomMAELoss, self).__init__()\n",
    "\n",
    "    def forward(self, predicted_landmarks, target_landmarks):\n",
    "        # Mask for elements with value -1\n",
    "        mask = (target_landmarks != -1).float()\n",
    "\n",
    "        # Compute absolute error only for non-masked elements\n",
    "        loss = torch.sum(abs(predicted_landmarks - target_landmarks) * mask) / torch.sum(mask)\n",
    "\n",
    "        return loss"
   ]
  },
  {
   "cell_type": "code",
   "execution_count": 11,
   "id": "e452a462-478e-4d59-839e-1e835a953dd4",
   "metadata": {},
   "outputs": [],
   "source": [
    "# Define transformation pipeline\n",
    "\n",
    "noise_transform = AddNoise(min_noise_scale=0, max_noise_scale=0.2, noise_prob=0.5)\n",
    "blur_transform = GaussianBlur(probability=0.5, min_sigma=0.0, max_sigma=10.0)\n",
    "color_jitter_transform = CustomColorJitter(brightness=0.2, contrast=0.2, saturation=0.2, hue=0.2)\n",
    "crop_bbox = CropAndResize(output_size=48)\n",
    "\n",
    "\n",
    "transform_train = CustomTransform([\n",
    "    FaceHorizontalFlip68(),\n",
    "    LandmarksAugmentation(rotation_limit=30, bbox_jitter_scale=0.3),\n",
    "    noise_transform,\n",
    "    blur_transform,\n",
    "    color_jitter_transform,\n",
    "    crop_bbox,\n",
    "    NormalizeAndToTensor()\n",
    "])\n",
    "\n",
    "transform_test = CustomTransform([\n",
    "    crop_bbox,\n",
    "    NormalizeAndToTensor()\n",
    "])\n",
    "\n",
    "# Load the dataset with transformations applied\n",
    "dataset = LandmarksDataset_from_json('./merged_landmarks_train/', 'train_data.json', transform=transform_train)\n",
    "dataloader_train = DataLoader(dataset, batch_size=32, shuffle=True, num_workers=32, prefetch_factor=2, persistent_workers=True)\n",
    "\n",
    "dataset = LandmarksDataset_from_json('./merged_landmarks_test/', 'test_data.json', transform=transform_test)\n",
    "dataloader_test = DataLoader(dataset, batch_size=1024, shuffle=False)"
   ]
  },
  {
   "cell_type": "code",
   "execution_count": null,
   "id": "9d126040-5fcd-4cda-9b8c-7afccf3cb759",
   "metadata": {},
   "outputs": [
    {
     "data": {
      "application/vnd.jupyter.widget-view+json": {
       "model_id": "11c18e0f6c8b42c381d0bd16524c5ea6",
       "version_major": 2,
       "version_minor": 0
      },
      "text/plain": [
       "  0%|          | 0/200 [00:00<?, ?it/s]"
      ]
     },
     "metadata": {},
     "output_type": "display_data"
    },
    {
     "data": {
      "application/vnd.jupyter.widget-view+json": {
       "model_id": "8651e283ef91430b8c2dcea9341e7fca",
       "version_major": 2,
       "version_minor": 0
      },
      "text/plain": [
       "  0%|          | 0/219 [00:00<?, ?it/s]"
      ]
     },
     "metadata": {},
     "output_type": "display_data"
    },
    {
     "name": "stdout",
     "output_type": "stream",
     "text": [
      "Epoch 1/200, Training Loss: 0.12546963088180377\n",
      "Epoch 1/200, Test Loss: 0.06338618695735931\n"
     ]
    },
    {
     "data": {
      "application/vnd.jupyter.widget-view+json": {
       "model_id": "ea4220e4b9e84dab9e37a9e075a1393a",
       "version_major": 2,
       "version_minor": 0
      },
      "text/plain": [
       "  0%|          | 0/219 [00:00<?, ?it/s]"
      ]
     },
     "metadata": {},
     "output_type": "display_data"
    },
    {
     "name": "stdout",
     "output_type": "stream",
     "text": [
      "Epoch 2/200, Training Loss: 0.07825589273550194\n",
      "Epoch 2/200, Test Loss: 0.05499234050512314\n"
     ]
    },
    {
     "data": {
      "application/vnd.jupyter.widget-view+json": {
       "model_id": "e4365b51e6c94db3853e6d84b0591dba",
       "version_major": 2,
       "version_minor": 0
      },
      "text/plain": [
       "  0%|          | 0/219 [00:00<?, ?it/s]"
      ]
     },
     "metadata": {},
     "output_type": "display_data"
    },
    {
     "name": "stdout",
     "output_type": "stream",
     "text": [
      "Epoch 3/200, Training Loss: 0.0657541807825979\n",
      "Epoch 3/200, Test Loss: 0.049405377358198166\n"
     ]
    },
    {
     "data": {
      "application/vnd.jupyter.widget-view+json": {
       "model_id": "6a3a6a6af9094940be7b1cef5aed61ca",
       "version_major": 2,
       "version_minor": 0
      },
      "text/plain": [
       "  0%|          | 0/219 [00:00<?, ?it/s]"
      ]
     },
     "metadata": {},
     "output_type": "display_data"
    },
    {
     "name": "stdout",
     "output_type": "stream",
     "text": [
      "Epoch 4/200, Training Loss: 0.060095981001581776\n",
      "Epoch 4/200, Test Loss: 0.042639926075935364\n"
     ]
    },
    {
     "data": {
      "application/vnd.jupyter.widget-view+json": {
       "model_id": "f11c1c8247b74c0091dbd10089fc9f41",
       "version_major": 2,
       "version_minor": 0
      },
      "text/plain": [
       "  0%|          | 0/219 [00:00<?, ?it/s]"
      ]
     },
     "metadata": {},
     "output_type": "display_data"
    },
    {
     "name": "stdout",
     "output_type": "stream",
     "text": [
      "Epoch 5/200, Training Loss: 0.055639222876666346\n",
      "Epoch 5/200, Test Loss: 0.037062183022499084\n"
     ]
    },
    {
     "data": {
      "application/vnd.jupyter.widget-view+json": {
       "model_id": "1dcfe81ac6674cbf8cfcc0a15ead3a63",
       "version_major": 2,
       "version_minor": 0
      },
      "text/plain": [
       "  0%|          | 0/219 [00:00<?, ?it/s]"
      ]
     },
     "metadata": {},
     "output_type": "display_data"
    },
    {
     "name": "stdout",
     "output_type": "stream",
     "text": [
      "Epoch 6/200, Training Loss: 0.05192938778702527\n",
      "Epoch 6/200, Test Loss: 0.039396561682224274\n"
     ]
    },
    {
     "data": {
      "application/vnd.jupyter.widget-view+json": {
       "model_id": "d2544b34e1404888933220ba39064914",
       "version_major": 2,
       "version_minor": 0
      },
      "text/plain": [
       "  0%|          | 0/219 [00:00<?, ?it/s]"
      ]
     },
     "metadata": {},
     "output_type": "display_data"
    },
    {
     "name": "stdout",
     "output_type": "stream",
     "text": [
      "Epoch 7/200, Training Loss: 0.048757641452904704\n",
      "Epoch 7/200, Test Loss: 0.0326194129884243\n"
     ]
    },
    {
     "data": {
      "application/vnd.jupyter.widget-view+json": {
       "model_id": "d3a7ee856d6147349cc5f5adef3ff41d",
       "version_major": 2,
       "version_minor": 0
      },
      "text/plain": [
       "  0%|          | 0/219 [00:00<?, ?it/s]"
      ]
     },
     "metadata": {},
     "output_type": "display_data"
    },
    {
     "name": "stdout",
     "output_type": "stream",
     "text": [
      "Epoch 8/200, Training Loss: 0.047005703443125504\n",
      "Epoch 8/200, Test Loss: 0.033934127539396286\n"
     ]
    },
    {
     "data": {
      "application/vnd.jupyter.widget-view+json": {
       "model_id": "0c7c6322c2a74ec3a4177d4bdb2b90f4",
       "version_major": 2,
       "version_minor": 0
      },
      "text/plain": [
       "  0%|          | 0/219 [00:00<?, ?it/s]"
      ]
     },
     "metadata": {},
     "output_type": "display_data"
    },
    {
     "name": "stdout",
     "output_type": "stream",
     "text": [
      "Epoch 9/200, Training Loss: 0.04552112456802364\n",
      "Epoch 9/200, Test Loss: 0.03203492611646652\n"
     ]
    },
    {
     "data": {
      "application/vnd.jupyter.widget-view+json": {
       "model_id": "819bb375155946e3b4fd4c9a1a855600",
       "version_major": 2,
       "version_minor": 0
      },
      "text/plain": [
       "  0%|          | 0/219 [00:00<?, ?it/s]"
      ]
     },
     "metadata": {},
     "output_type": "display_data"
    },
    {
     "name": "stdout",
     "output_type": "stream",
     "text": [
      "Epoch 10/200, Training Loss: 0.044202528332602485\n",
      "Epoch 10/200, Test Loss: 0.029875651001930237\n"
     ]
    },
    {
     "data": {
      "application/vnd.jupyter.widget-view+json": {
       "model_id": "a6500ae1342d4e9d8cc4413b844e0d63",
       "version_major": 2,
       "version_minor": 0
      },
      "text/plain": [
       "  0%|          | 0/219 [00:00<?, ?it/s]"
      ]
     },
     "metadata": {},
     "output_type": "display_data"
    },
    {
     "name": "stdout",
     "output_type": "stream",
     "text": [
      "Epoch 11/200, Training Loss: 0.04313875175161993\n",
      "Epoch 11/200, Test Loss: 0.029381971806287766\n"
     ]
    },
    {
     "data": {
      "application/vnd.jupyter.widget-view+json": {
       "model_id": "ccad00ccc00746fbb20de78c6093dd2b",
       "version_major": 2,
       "version_minor": 0
      },
      "text/plain": [
       "  0%|          | 0/219 [00:00<?, ?it/s]"
      ]
     },
     "metadata": {},
     "output_type": "display_data"
    },
    {
     "name": "stdout",
     "output_type": "stream",
     "text": [
      "Epoch 12/200, Training Loss: 0.04231920222577439\n",
      "Epoch 12/200, Test Loss: 0.029770713299512863\n"
     ]
    },
    {
     "data": {
      "application/vnd.jupyter.widget-view+json": {
       "model_id": "ef4acf6c0d4f4e28bad717d180223d0a",
       "version_major": 2,
       "version_minor": 0
      },
      "text/plain": [
       "  0%|          | 0/219 [00:00<?, ?it/s]"
      ]
     },
     "metadata": {},
     "output_type": "display_data"
    },
    {
     "name": "stdout",
     "output_type": "stream",
     "text": [
      "Epoch 13/200, Training Loss: 0.04141589936260219\n",
      "Epoch 13/200, Test Loss: 0.030943114310503006\n"
     ]
    },
    {
     "data": {
      "application/vnd.jupyter.widget-view+json": {
       "model_id": "0f8c1bcd376541bf90f99c6600f059b3",
       "version_major": 2,
       "version_minor": 0
      },
      "text/plain": [
       "  0%|          | 0/219 [00:00<?, ?it/s]"
      ]
     },
     "metadata": {},
     "output_type": "display_data"
    },
    {
     "name": "stdout",
     "output_type": "stream",
     "text": [
      "Epoch 14/200, Training Loss: 0.04028635570719906\n",
      "Epoch 14/200, Test Loss: 0.0326501689851284\n"
     ]
    },
    {
     "data": {
      "application/vnd.jupyter.widget-view+json": {
       "model_id": "48575547969d4e7d9da19009c48442c9",
       "version_major": 2,
       "version_minor": 0
      },
      "text/plain": [
       "  0%|          | 0/219 [00:00<?, ?it/s]"
      ]
     },
     "metadata": {},
     "output_type": "display_data"
    },
    {
     "name": "stdout",
     "output_type": "stream",
     "text": [
      "Epoch 15/200, Training Loss: 0.03985426176900733\n",
      "Epoch 15/200, Test Loss: 0.02880202606320381\n"
     ]
    },
    {
     "data": {
      "application/vnd.jupyter.widget-view+json": {
       "model_id": "b2fb30f8c77843629a5fac892b7605cc",
       "version_major": 2,
       "version_minor": 0
      },
      "text/plain": [
       "  0%|          | 0/219 [00:00<?, ?it/s]"
      ]
     },
     "metadata": {},
     "output_type": "display_data"
    },
    {
     "name": "stdout",
     "output_type": "stream",
     "text": [
      "Epoch 16/200, Training Loss: 0.03873658757741865\n",
      "Epoch 16/200, Test Loss: 0.027016134932637215\n"
     ]
    },
    {
     "data": {
      "application/vnd.jupyter.widget-view+json": {
       "model_id": "cd0db801441b49ecad8be8ef0e52cf7b",
       "version_major": 2,
       "version_minor": 0
      },
      "text/plain": [
       "  0%|          | 0/219 [00:00<?, ?it/s]"
      ]
     },
     "metadata": {},
     "output_type": "display_data"
    },
    {
     "name": "stdout",
     "output_type": "stream",
     "text": [
      "Epoch 17/200, Training Loss: 0.03853202919097252\n",
      "Epoch 17/200, Test Loss: 0.028256796300411224\n"
     ]
    },
    {
     "data": {
      "application/vnd.jupyter.widget-view+json": {
       "model_id": "4e8200322a884a129c9e0556d02d6b63",
       "version_major": 2,
       "version_minor": 0
      },
      "text/plain": [
       "  0%|          | 0/219 [00:00<?, ?it/s]"
      ]
     },
     "metadata": {},
     "output_type": "display_data"
    },
    {
     "name": "stdout",
     "output_type": "stream",
     "text": [
      "Epoch 18/200, Training Loss: 0.037998535419435805\n",
      "Epoch 18/200, Test Loss: 0.025958556681871414\n"
     ]
    },
    {
     "data": {
      "application/vnd.jupyter.widget-view+json": {
       "model_id": "f2464c21b4e2417fafa5fb5ca663688a",
       "version_major": 2,
       "version_minor": 0
      },
      "text/plain": [
       "  0%|          | 0/219 [00:00<?, ?it/s]"
      ]
     },
     "metadata": {},
     "output_type": "display_data"
    },
    {
     "name": "stdout",
     "output_type": "stream",
     "text": [
      "Epoch 19/200, Training Loss: 0.03749228617576159\n",
      "Epoch 19/200, Test Loss: 0.02697189338505268\n"
     ]
    },
    {
     "data": {
      "application/vnd.jupyter.widget-view+json": {
       "model_id": "9c8dcd14650242b1ad8f99aa7de713f8",
       "version_major": 2,
       "version_minor": 0
      },
      "text/plain": [
       "  0%|          | 0/219 [00:00<?, ?it/s]"
      ]
     },
     "metadata": {},
     "output_type": "display_data"
    },
    {
     "name": "stdout",
     "output_type": "stream",
     "text": [
      "Epoch 20/200, Training Loss: 0.0371237007399264\n",
      "Epoch 20/200, Test Loss: 0.025961318984627724\n"
     ]
    },
    {
     "data": {
      "application/vnd.jupyter.widget-view+json": {
       "model_id": "85bbf1e15f434a0dadfe143a1ae66e0c",
       "version_major": 2,
       "version_minor": 0
      },
      "text/plain": [
       "  0%|          | 0/219 [00:00<?, ?it/s]"
      ]
     },
     "metadata": {},
     "output_type": "display_data"
    },
    {
     "name": "stdout",
     "output_type": "stream",
     "text": [
      "Epoch 21/200, Training Loss: 0.03698709250755234\n",
      "Epoch 21/200, Test Loss: 0.02520177699625492\n"
     ]
    },
    {
     "data": {
      "application/vnd.jupyter.widget-view+json": {
       "model_id": "3ada4efbc2c6484498cd508625bcceb3",
       "version_major": 2,
       "version_minor": 0
      },
      "text/plain": [
       "  0%|          | 0/219 [00:00<?, ?it/s]"
      ]
     },
     "metadata": {},
     "output_type": "display_data"
    },
    {
     "name": "stdout",
     "output_type": "stream",
     "text": [
      "Epoch 22/200, Training Loss: 0.036446740536112764\n",
      "Epoch 22/200, Test Loss: 0.024858715012669563\n"
     ]
    },
    {
     "data": {
      "application/vnd.jupyter.widget-view+json": {
       "model_id": "8e523a67e072440d87831aeb6f9cb2fe",
       "version_major": 2,
       "version_minor": 0
      },
      "text/plain": [
       "  0%|          | 0/219 [00:00<?, ?it/s]"
      ]
     },
     "metadata": {},
     "output_type": "display_data"
    },
    {
     "name": "stdout",
     "output_type": "stream",
     "text": [
      "Epoch 23/200, Training Loss: 0.036158321723001735\n",
      "Epoch 23/200, Test Loss: 0.025390423834323883\n"
     ]
    },
    {
     "data": {
      "application/vnd.jupyter.widget-view+json": {
       "model_id": "ed1a385bdbd440af97d780d24974489f",
       "version_major": 2,
       "version_minor": 0
      },
      "text/plain": [
       "  0%|          | 0/219 [00:00<?, ?it/s]"
      ]
     },
     "metadata": {},
     "output_type": "display_data"
    },
    {
     "name": "stdout",
     "output_type": "stream",
     "text": [
      "Epoch 24/200, Training Loss: 0.035801662021575996\n",
      "Epoch 24/200, Test Loss: 0.02476542443037033\n"
     ]
    },
    {
     "data": {
      "application/vnd.jupyter.widget-view+json": {
       "model_id": "6cec6ab3914c4b16854ec3f4ab9be5fa",
       "version_major": 2,
       "version_minor": 0
      },
      "text/plain": [
       "  0%|          | 0/219 [00:00<?, ?it/s]"
      ]
     },
     "metadata": {},
     "output_type": "display_data"
    },
    {
     "name": "stdout",
     "output_type": "stream",
     "text": [
      "Epoch 25/200, Training Loss: 0.035686184146088554\n",
      "Epoch 25/200, Test Loss: 0.02613784745335579\n"
     ]
    },
    {
     "data": {
      "application/vnd.jupyter.widget-view+json": {
       "model_id": "33adf9aadf5442cbb38be0dbd0afe587",
       "version_major": 2,
       "version_minor": 0
      },
      "text/plain": [
       "  0%|          | 0/219 [00:00<?, ?it/s]"
      ]
     },
     "metadata": {},
     "output_type": "display_data"
    },
    {
     "name": "stdout",
     "output_type": "stream",
     "text": [
      "Epoch 26/200, Training Loss: 0.035023955109456904\n",
      "Epoch 26/200, Test Loss: 0.025085067376494408\n"
     ]
    },
    {
     "data": {
      "application/vnd.jupyter.widget-view+json": {
       "model_id": "6332a677e93040258322de3684cc0e4c",
       "version_major": 2,
       "version_minor": 0
      },
      "text/plain": [
       "  0%|          | 0/219 [00:00<?, ?it/s]"
      ]
     },
     "metadata": {},
     "output_type": "display_data"
    },
    {
     "name": "stdout",
     "output_type": "stream",
     "text": [
      "Epoch 27/200, Training Loss: 0.03459137711316755\n",
      "Epoch 27/200, Test Loss: 0.02347399666905403\n"
     ]
    },
    {
     "data": {
      "application/vnd.jupyter.widget-view+json": {
       "model_id": "2c7663ec02054ee4af3c49070db4462a",
       "version_major": 2,
       "version_minor": 0
      },
      "text/plain": [
       "  0%|          | 0/219 [00:00<?, ?it/s]"
      ]
     },
     "metadata": {},
     "output_type": "display_data"
    },
    {
     "name": "stdout",
     "output_type": "stream",
     "text": [
      "Epoch 28/200, Training Loss: 0.03439432053431256\n",
      "Epoch 28/200, Test Loss: 0.022932598367333412\n"
     ]
    },
    {
     "data": {
      "application/vnd.jupyter.widget-view+json": {
       "model_id": "8580fbbae5c8453fb7266e1dcaa14e61",
       "version_major": 2,
       "version_minor": 0
      },
      "text/plain": [
       "  0%|          | 0/219 [00:00<?, ?it/s]"
      ]
     },
     "metadata": {},
     "output_type": "display_data"
    },
    {
     "name": "stdout",
     "output_type": "stream",
     "text": [
      "Epoch 29/200, Training Loss: 0.03436389465106132\n",
      "Epoch 29/200, Test Loss: 0.025445308536291122\n"
     ]
    },
    {
     "data": {
      "application/vnd.jupyter.widget-view+json": {
       "model_id": "c4e40343a8cd4082bb4cfa86434a77ef",
       "version_major": 2,
       "version_minor": 0
      },
      "text/plain": [
       "  0%|          | 0/219 [00:00<?, ?it/s]"
      ]
     },
     "metadata": {},
     "output_type": "display_data"
    },
    {
     "name": "stdout",
     "output_type": "stream",
     "text": [
      "Epoch 30/200, Training Loss: 0.034069445281880634\n",
      "Epoch 30/200, Test Loss: 0.023302067071199417\n"
     ]
    },
    {
     "data": {
      "application/vnd.jupyter.widget-view+json": {
       "model_id": "5b975bb0ef074b37bf631d1a34d4f98d",
       "version_major": 2,
       "version_minor": 0
      },
      "text/plain": [
       "  0%|          | 0/219 [00:00<?, ?it/s]"
      ]
     },
     "metadata": {},
     "output_type": "display_data"
    }
   ],
   "source": [
    "# Define the model\n",
    "model = ONet()\n",
    "\n",
    "# Move model to GPU if available\n",
    "device = torch.device(\"cuda\" if torch.cuda.is_available() else \"cpu\")\n",
    "model.to(device)\n",
    "\n",
    "# Define the optimizer\n",
    "optimizer = optim.Adam(model.parameters(), lr=3e-4)\n",
    "\n",
    "# Define the loss function\n",
    "criterion = CustomMAELoss()\n",
    "# criterion = CustomMSELoss()\n",
    "\n",
    "# Number of epochs\n",
    "num_epochs = 200\n",
    "\n",
    "# Initialize variables to track best test loss and corresponding model state\n",
    "best_test_loss = float('inf')\n",
    "best_model_state = None\n",
    "\n",
    "# Lists to store training and testing losses\n",
    "train_losses = []\n",
    "test_losses = []\n",
    "\n",
    "# Training loop\n",
    "for epoch in tqdm(range(num_epochs)):\n",
    "    # Training\n",
    "    model.train()\n",
    "    running_loss = 0.0\n",
    "    for images, bbox, landmarks  in tqdm(dataloader_train):\n",
    "        # Move data to GPU if available\n",
    "        images, landmarks = images.to(device), landmarks.to(device)\n",
    "\n",
    "        # Zero the parameter gradients\n",
    "        optimizer.zero_grad()\n",
    "\n",
    "        # Forward pass\n",
    "        outputs = model(images)\n",
    "\n",
    "        # Compute the loss\n",
    "        loss = criterion(outputs, landmarks)\n",
    "\n",
    "        # Backward pass and optimization\n",
    "        loss.backward()\n",
    "        optimizer.step()\n",
    "\n",
    "        # Print statistics\n",
    "        running_loss += loss.item()\n",
    "\n",
    "    train_loss = running_loss / len(dataloader_train)\n",
    "    train_losses.append(train_loss)\n",
    "    print(f'Epoch {epoch+1}/{num_epochs}, Training Loss: {train_loss}')\n",
    "\n",
    "    # Testing\n",
    "    model.eval()\n",
    "    test_loss = 0.0\n",
    "    with torch.no_grad():\n",
    "        for images, bbox, landmarks in dataloader_test:\n",
    "            # Move data to GPU if available\n",
    "            images, landmarks = images.to(device), landmarks.to(device)\n",
    "\n",
    "            outputs = model(images)\n",
    "            test_loss += criterion(outputs, landmarks).item()\n",
    "\n",
    "    test_loss /= len(dataloader_test)\n",
    "    test_losses.append(test_loss)\n",
    "    print(f'Epoch {epoch+1}/{num_epochs}, Test Loss: {test_loss}')\n",
    "\n",
    "    # Save the model if test loss improves\n",
    "    if test_loss < best_test_loss:\n",
    "        best_test_loss = test_loss\n",
    "        torch.save(model, 'best_model_mae.pt')"
   ]
  },
  {
   "cell_type": "code",
   "execution_count": 16,
   "id": "0b81740f-f6e2-493d-82a0-ec31372748c9",
   "metadata": {},
   "outputs": [
    {
     "data": {
      "text/plain": [
       "<matplotlib.legend.Legend at 0x7fe0f7f43490>"
      ]
     },
     "execution_count": 16,
     "metadata": {},
     "output_type": "execute_result"
    },
    {
     "data": {
      "image/png": "[encoded data removed]",
      "text/plain": [
       "<Figure size 640x480 with 1 Axes>"
      ]
     },
     "metadata": {},
     "output_type": "display_data"
    }
   ],
   "source": [
    "plt.plot(train_losses, label='train')\n",
    "plt.plot(test_losses, label='test')\n",
    "plt.ylim(0, 0.005)\n",
    "plt.ylabel('MAE Landmark Loss')\n",
    "plt.xlabel('Epochs')\n",
    "plt.title('O-Net training')\n",
    "plt.legend()"
   ]
  },
  {
   "cell_type": "code",
   "execution_count": 17,
   "id": "1dd7578b-6e3a-4cb9-b5e3-edbaae51a52f",
   "metadata": {},
   "outputs": [
    {
     "data": {
      "text/plain": [
       "0.01789919100701809"
      ]
     },
     "execution_count": 17,
     "metadata": {},
     "output_type": "execute_result"
    }
   ],
   "source": [
    "best_test_loss"
   ]
  },
  {
   "cell_type": "code",
   "execution_count": null,
   "id": "ceb930ab-c689-4b5b-9bd6-0c6089ad734e",
   "metadata": {},
   "outputs": [],
   "source": []
  }
 ],
 "metadata": {
  "kernelspec": {
   "display_name": "Python 3 (ipykernel)",
   "language": "python",
   "name": "python3"
  },
  "language_info": {
   "codemirror_mode": {
    "name": "ipython",
    "version": 3
   },
   "file_extension": ".py",
   "mimetype": "text/x-python",
   "name": "python",
   "nbconvert_exporter": "python",
   "pygments_lexer": "ipython3",
   "version": "3.11.5"
  }
 },
 "nbformat": 4,
 "nbformat_minor": 5
}
